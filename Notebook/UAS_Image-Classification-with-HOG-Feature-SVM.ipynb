{
 "cells": [
  {
   "cell_type": "markdown",
   "id": "korean-fancy",
   "metadata": {},
   "source": [
    "# Image Classification with HOG Feature and Neural Networks"
   ]
  },
  {
   "cell_type": "code",
   "execution_count": 621,
   "id": "welcome-thesaurus",
   "metadata": {},
   "outputs": [],
   "source": [
    "import matplotlib.pyplot as plt\n",
    "from skimage.feature import hog\n",
    "from sklearn import datasets\n",
    "from mlxtend.data import loadlocal_mnist\n",
    "from sklearn.neural_network import MLPClassifier\n",
    "from sklearn.svm import SVC"
   ]
  },
  {
   "cell_type": "markdown",
   "id": "laden-franklin",
   "metadata": {},
   "source": [
    "## 1. Dataset Preparation"
   ]
  },
  {
   "attachments": {
    "mnist.png": {
     "image/png": "[encoded data removed]"
    }
   },
   "cell_type": "markdown",
   "id": "recreational-mercy",
   "metadata": {},
   "source": [
    "![mnist.png](attachment:mnist.png)"
   ]
  },
  {
   "cell_type": "markdown",
   "id": "spread-alexandria",
   "metadata": {},
   "source": [
    "**Download MNIST dataset**"
   ]
  },
  {
   "cell_type": "code",
   "execution_count": 60,
   "id": "welcome-nickname",
   "metadata": {},
   "outputs": [
    {
     "name": "stderr",
     "output_type": "stream",
     "text": [
      "--2024-01-10 15:43:33--  http://yann.lecun.com/exdb/mnist/train-images-idx3-ubyte.gz\n",
      "Resolving yann.lecun.com (yann.lecun.com)... 104.21.29.36, 172.67.171.76\n",
      "Connecting to yann.lecun.com (yann.lecun.com)|104.21.29.36|:80... connected.\n",
      "HTTP request sent, awaiting response... 200 OK\n",
      "Length: 9912422 (9,5M) [application/x-gzip]\n",
      "Saving to: '../images/mnist-dataset/train-images-idx3-ubyte.gz.1'\n",
      "\n",
      "     0K .......... .......... .......... .......... ..........  0%  398M 0s\n",
      "    50K .......... .......... .......... .......... ..........  1% 1,45M 3s\n",
      "   100K .......... .......... .......... .......... ..........  1% 1,36M 4s\n",
      "   150K .......... .......... .......... .......... ..........  2% 1,46M 5s\n",
      "   200K .......... .......... .......... .......... ..........  2% 4,42M 4s\n",
      "   250K .......... .......... .......... .......... ..........  3% 1,45M 5s\n",
      "   300K .......... .......... .......... .......... ..........  3%  876K 5s\n",
      "   350K .......... .......... .......... .......... ..........  4% 2,49M 5s\n",
      "   400K .......... .......... .......... .......... ..........  4% 1,42M 5s\n",
      "   450K .......... .......... .......... .......... ..........  5% 1,48M 5s\n",
      "   500K .......... .......... .......... .......... ..........  5% 1,45M 5s\n",
      "   550K .......... .......... .......... .......... ..........  6% 1,38M 5s\n",
      "   600K .......... .......... .......... .......... ..........  6% 2,65M 5s\n",
      "   650K .......... .......... .......... .......... ..........  7% 1,40M 5s\n",
      "   700K .......... .......... .......... .......... ..........  7% 1,54M 5s\n",
      "   750K .......... .......... .......... .......... ..........  8% 1,58M 5s\n",
      "   800K .......... .......... .......... .......... ..........  8% 1,52M 5s\n",
      "   850K .......... .......... .......... .......... ..........  9% 1,86M 5s\n",
      "   900K .......... .......... .......... .......... ..........  9% 1,75M 5s\n",
      "   950K .......... .......... .......... .......... .......... 10% 1,56M 5s\n",
      "  1000K .......... .......... .......... .......... .......... 10% 1,57M 5s\n",
      "  1050K .......... .......... .......... .......... .......... 11% 1,48M 5s\n",
      "  1100K .......... .......... .......... .......... .......... 11% 1,99M 5s\n",
      "  1150K .......... .......... .......... .......... .......... 12% 1,69M 5s\n",
      "  1200K .......... .......... .......... .......... .......... 12% 1,15M 5s\n",
      "  1250K .......... .......... .......... .......... .......... 13% 1,56M 5s\n",
      "  1300K .......... .......... .......... .......... .......... 13% 1,58M 5s\n",
      "  1350K .......... .......... .......... .......... .......... 14% 1,83M 5s\n",
      "  1400K .......... .......... .......... .......... .......... 14% 1,60M 5s\n",
      "  1450K .......... .......... .......... .......... .......... 15% 1,45M 5s\n",
      "  1500K .......... .......... .......... .......... .......... 16% 1,05M 5s\n",
      "  1550K .......... .......... .......... .......... .......... 16% 1,07M 5s\n",
      "  1600K .......... .......... .......... .......... .......... 17%  819K 5s\n",
      "  1650K .......... .......... .......... .......... .......... 17% 2,99M 5s\n",
      "  1700K .......... .......... .......... .......... .......... 18%  954G 5s\n",
      "  1750K .......... .......... .......... .......... .......... 18% 1,37M 5s\n",
      "  1800K .......... .......... .......... .......... .......... 19% 1,58M 5s\n",
      "  1850K .......... .......... .......... .......... .......... 19% 1,60M 5s\n",
      "  1900K .......... .......... .......... .......... .......... 20% 1,92M 5s\n",
      "  1950K .......... .......... .......... .......... .......... 20% 1,66M 5s\n",
      "  2000K .......... .......... .......... .......... .......... 21% 1,54M 5s\n",
      "  2050K .......... .......... .......... .......... .......... 21% 1,62M 5s\n",
      "  2100K .......... .......... .......... .......... .......... 22% 1,45M 5s\n",
      "  2150K .......... .......... .......... .......... .......... 22% 2,10M 5s\n",
      "  2200K .......... .......... .......... .......... .......... 23% 1,56M 5s\n",
      "  2250K .......... .......... .......... .......... .......... 23% 1,61M 5s\n",
      "  2300K .......... .......... .......... .......... .......... 24% 1,53M 4s\n",
      "  2350K .......... .......... .......... .......... .......... 24% 1,57M 4s\n",
      "  2400K .......... .......... .......... .......... .......... 25% 2,11M 4s\n",
      "  2450K .......... .......... .......... .......... .......... 25% 1,57M 4s\n",
      "  2500K .......... .......... .......... .......... .......... 26% 1,59M 4s\n",
      "  2550K .......... .......... .......... .......... .......... 26% 1,55M 4s\n",
      "  2600K .......... .......... .......... .......... .......... 27% 1,52M 4s\n",
      "  2650K .......... .......... .......... .......... .......... 27% 2,13M 4s\n",
      "  2700K .......... .......... .......... .......... .......... 28% 1,57M 4s\n",
      "  2750K .......... .......... .......... .......... .......... 28% 1,42M 4s\n",
      "  2800K .......... .......... .......... .......... .......... 29% 1,79M 4s\n",
      "  2850K .......... .......... .......... .......... .......... 29% 1,56M 4s\n",
      "  2900K .......... .......... .......... .......... .......... 30% 2,02M 4s\n",
      "  2950K .......... .......... .......... .......... .......... 30% 1,24M 4s\n",
      "  3000K .......... .......... .......... .......... .......... 31% 2,17M 4s\n",
      "  3050K .......... .......... .......... .......... .......... 32% 1,57M 4s\n",
      "  3100K .......... .......... .......... .......... .......... 32% 1,11M 4s\n",
      "  3150K .......... .......... .......... .......... .......... 33% 2,43M 4s\n",
      "  3200K .......... .......... .......... .......... .......... 33% 1,39M 4s\n",
      "  3250K .......... .......... .......... .......... .......... 34% 1,50M 4s\n",
      "  3300K .......... .......... .......... .......... .......... 34% 1,54M 4s\n",
      "  3350K .......... .......... .......... .......... .......... 35% 1,69M 4s\n",
      "  3400K .......... .......... .......... .......... .......... 35% 2,02M 4s\n",
      "  3450K .......... .......... .......... .......... .......... 36% 1,68M 4s\n",
      "  3500K .......... .......... .......... .......... .......... 36% 1,51M 4s\n",
      "  3550K .......... .......... .......... .......... .......... 37% 1,58M 4s\n",
      "  3600K .......... .......... .......... .......... .......... 37% 1,58M 4s\n",
      "  3650K .......... .......... .......... .......... .......... 38% 2,09M 4s\n",
      "  3700K .......... .......... .......... .......... .......... 38% 1,49M 4s\n",
      "  3750K .......... .......... .......... .......... .......... 39% 1,70M 4s\n",
      "  3800K .......... .......... .......... .......... .......... 39% 1,52M 4s\n",
      "  3850K .......... .......... .......... .......... .......... 40% 1,58M 4s\n",
      "  3900K .......... .......... .......... .......... .......... 40% 1,97M 3s\n",
      "  3950K .......... .......... .......... .......... .......... 41% 1,66M 3s\n",
      "  4000K .......... .......... .......... .......... .......... 41% 1,63M 3s\n",
      "  4050K .......... .......... .......... .......... .......... 42% 1,56M 3s\n",
      "  4100K .......... .......... .......... .......... .......... 42% 1,54M 3s\n",
      "  4150K .......... .......... .......... .......... .......... 43% 2,12M 3s\n",
      "  4200K .......... .......... .......... .......... .......... 43% 1,59M 3s\n",
      "  4250K .......... .......... .......... .......... .......... 44% 1,35M 3s\n",
      "  4300K .......... .......... .......... .......... .......... 44% 1,53M 3s\n",
      "  4350K .......... .......... .......... .......... .......... 45% 1,60M 3s\n",
      "  4400K .......... .......... .......... .......... .......... 45% 1,18M 3s\n",
      "  4450K .......... .......... .......... .......... .......... 46% 1,55M 3s\n",
      "  4500K .......... .......... .......... .......... .......... 47% 1,55M 3s\n",
      "  4550K .......... .......... .......... .......... .......... 47% 1,68M 3s\n",
      "  4600K .......... .......... .......... .......... .......... 48% 2,03M 3s\n",
      "  4650K .......... .......... .......... .......... .......... 48% 1,53M 3s\n",
      "  4700K .......... .......... .......... .......... .......... 49% 1,54M 3s\n",
      "  4750K .......... .......... .......... .......... .......... 49% 1,66M 3s\n",
      "  4800K .......... .......... .......... .......... .......... 50% 1,57M 3s\n",
      "  4850K .......... .......... .......... .......... .......... 50% 2,07M 3s\n",
      "  4900K .......... .......... .......... .......... .......... 51% 1,55M 3s\n",
      "  4950K .......... .......... .......... .......... .......... 51% 1,60M 3s\n",
      "  5000K .......... .......... .......... .......... .......... 52% 1,61M 3s\n",
      "  5050K .......... .......... .......... .......... .......... 52%  929K 3s\n",
      "  5100K .......... .......... .......... .......... .......... 53% 1,63M 3s\n",
      "  5150K .......... .......... .......... .......... .......... 53% 1,52M 3s\n",
      "  5200K .......... .......... .......... .......... .......... 54% 1,68M 3s\n",
      "  5250K .......... .......... .......... .......... .......... 54% 1,99M 3s\n",
      "  5300K .......... .......... .......... .......... .......... 55% 1,58M 3s\n",
      "  5350K .......... .......... .......... .......... .......... 55% 1,64M 3s\n",
      "  5400K .......... .......... .......... .......... .......... 56% 1,50M 3s\n",
      "  5450K .......... .......... .......... .......... .......... 56% 1,62M 3s\n",
      "  5500K .......... .......... .......... .......... .......... 57% 2,06M 3s\n",
      "  5550K .......... .......... .......... .......... .......... 57% 1,55M 2s\n",
      "  5600K .......... .......... .......... .......... .......... 58% 1,56M 2s\n",
      "  5650K .......... .......... .......... .......... .......... 58% 1,66M 2s\n",
      "  5700K .......... .......... .......... .......... .......... 59% 1,56M 2s\n",
      "  5750K .......... .......... .......... .......... .......... 59% 2,04M 2s\n",
      "  5800K .......... .......... .......... .......... .......... 60% 1,57M 2s\n",
      "  5850K .......... .......... .......... .......... .......... 60% 1,66M 2s\n",
      "  5900K .......... .......... .......... .......... .......... 61% 1,65M 2s\n",
      "  5950K .......... .......... .......... .......... .......... 61% 1,64M 2s\n",
      "  6000K .......... .......... .......... .......... .......... 62% 1,75M 2s\n",
      "  6050K .......... .......... .......... .......... .......... 63% 1,63M 2s\n",
      "  6100K .......... .......... .......... .......... .......... 63% 1,67M 2s\n",
      "  6150K .......... .......... .......... .......... .......... 64% 1,59M 2s\n",
      "  6200K .......... .......... .......... .......... .......... 64% 1,60M 2s\n",
      "  6250K .......... .......... .......... .......... .......... 65% 1,07M 2s\n",
      "  6300K .......... .......... .......... .......... .......... 65% 1,54M 2s\n",
      "  6350K .......... .......... .......... .......... .......... 66% 1,80M 2s\n",
      "  6400K .......... .......... .......... .......... .......... 66% 1,57M 2s\n",
      "  6450K .......... .......... .......... .......... .......... 67% 1,85M 2s\n",
      "  6500K .......... .......... .......... .......... .......... 67% 1,71M 2s\n",
      "  6550K .......... .......... .......... .......... .......... 68% 1,56M 2s\n",
      "  6600K .......... .......... .......... .......... .......... 68% 1,66M 2s\n",
      "  6650K .......... .......... .......... .......... .......... 69% 1,61M 2s\n",
      "  6700K .......... .......... .......... .......... .......... 69% 1,83M 2s\n",
      "  6750K .......... .......... .......... .......... .......... 70% 1,76M 2s\n",
      "  6800K .......... .......... .......... .......... .......... 70% 1,54M 2s\n",
      "  6850K .......... .......... .......... .......... .......... 71% 1,71M 2s\n",
      "  6900K .......... .......... .......... .......... .......... 71% 1,65M 2s\n",
      "  6950K .......... .......... .......... .......... .......... 72% 1,64M 2s\n",
      "  7000K .......... .......... .......... .......... .......... 72% 1,83M 2s\n",
      "  7050K .......... .......... .......... .......... .......... 73% 1,33M 2s\n",
      "  7100K .......... .......... .......... .......... .......... 73% 1,32M 2s\n",
      "  7150K .......... .......... .......... .......... .......... 74% 1,30M 2s\n",
      "  7200K .......... .......... .......... .......... .......... 74% 1,54M 1s\n",
      "  7250K .......... .......... .......... .......... .......... 75% 2,05M 1s\n",
      "  7300K .......... .......... .......... .......... .......... 75% 1,16M 1s\n",
      "  7350K .......... .......... .......... .......... .......... 76% 2,29M 1s\n",
      "  7400K .......... .......... .......... .......... .......... 76% 1,63M 1s\n",
      "  7450K .......... .......... .......... .......... .......... 77% 1,61M 1s\n",
      "  7500K .......... .......... .......... .......... .......... 77% 1,53M 1s\n",
      "  7550K .......... .......... .......... .......... .......... 78% 2,15M 1s\n",
      "  7600K .......... .......... .......... .......... .......... 79% 1,41M 1s\n",
      "  7650K .......... .......... .......... .......... .......... 79% 1,19M 1s\n",
      "  7700K .......... .......... .......... .......... .......... 80% 2,45M 1s\n",
      "  7750K .......... .......... .......... .......... .......... 80% 1,55M 1s\n",
      "  7800K .......... .......... .......... .......... .......... 81% 1,59M 1s\n",
      "  7850K .......... .......... .......... .......... .......... 81% 1,08M 1s\n",
      "  7900K .......... .......... .......... .......... .......... 82%  832K 1s\n",
      "  7950K .......... .......... .......... .......... .......... 82% 1,04M 1s\n",
      "  8000K .......... .......... .......... .......... .......... 83%  954G 1s\n",
      "  8050K .......... .......... .......... .......... .......... 83% 1,61M 1s\n",
      "  8100K .......... .......... .......... .......... .......... 84% 1,49M 1s\n",
      "  8150K .......... .......... .......... .......... .......... 84% 1,34M 1s\n",
      "  8200K .......... .......... .......... .......... .......... 85% 2,16M 1s\n",
      "  8250K .......... .......... .......... .......... .......... 85% 1,46M 1s\n",
      "  8300K .......... .......... .......... .......... .......... 86% 1,15M 1s\n",
      "  8350K .......... .......... .......... .......... .......... 86% 1,59M 1s\n",
      "  8400K .......... .......... .......... .......... .......... 87% 1,98M 1s\n",
      "  8450K .......... .......... .......... .......... .......... 87% 1,65M 1s\n",
      "  8500K .......... .......... .......... .......... .......... 88% 1,53M 1s\n",
      "  8550K .......... .......... .......... .......... .......... 88% 1,57M 1s\n",
      "  8600K .......... .......... .......... .......... .......... 89% 1,59M 1s\n",
      "  8650K .......... .......... .......... .......... .......... 89% 1,90M 1s\n",
      "  8700K .......... .......... .......... .......... .......... 90% 1,63M 1s\n",
      "  8750K .......... .......... .......... .......... .......... 90% 1,56M 1s\n",
      "  8800K .......... .......... .......... .......... .......... 91% 1,59M 1s\n",
      "  8850K .......... .......... .......... .......... .......... 91% 1,54M 0s\n",
      "  8900K .......... .......... .......... .......... .......... 92% 2,02M 0s\n",
      "  8950K .......... .......... .......... .......... .......... 92% 1,57M 0s\n",
      "  9000K .......... .......... .......... .......... .......... 93% 1,56M 0s\n",
      "  9050K .......... .......... .......... .......... .......... 94% 1,34M 0s\n",
      "  9100K .......... .......... .......... .......... .......... 94% 1,93M 0s\n",
      "  9150K .......... .......... .......... .......... .......... 95% 1,44M 0s\n",
      "  9200K .......... .......... .......... .......... .......... 95% 1,68M 0s\n",
      "  9250K .......... .......... .......... .......... .......... 96% 1,54M 0s\n",
      "  9300K .......... .......... .......... .......... .......... 96% 1,08M 0s\n",
      "  9350K .......... .......... .......... .......... .......... 97% 1,07M 0s\n",
      "  9400K .......... .......... .......... .......... .......... 97% 3,13M 0s\n",
      "  9450K .......... .......... .......... .......... .......... 98% 2,10M 0s\n",
      "  9500K .......... .......... .......... .......... .......... 98% 2,04M 0s\n",
      "  9550K .......... .......... .......... .......... .......... 99% 1,63M 0s\n",
      "  9600K .......... .......... .......... .......... .......... 99% 1,08M 0s\n",
      "  9650K .......... .......... ..........                      100% 6,38M=5,9s\n",
      "\n",
      "2024-01-10 15:43:39 (1,59 MB/s) - '../images/mnist-dataset/train-images-idx3-ubyte.gz.1' saved [9912422/9912422]\n",
      "\n"
     ]
    }
   ],
   "source": [
    "!wget http://yann.lecun.com/exdb/mnist/train-images-idx3-ubyte.gz -P ../images/mnist-dataset"
   ]
  },
  {
   "cell_type": "code",
   "execution_count": 61,
   "id": "humanitarian-maria",
   "metadata": {},
   "outputs": [
    {
     "name": "stderr",
     "output_type": "stream",
     "text": [
      "--2024-01-10 15:43:51--  http://yann.lecun.com/exdb/mnist/train-labels-idx1-ubyte.gz\n",
      "Resolving yann.lecun.com (yann.lecun.com)... 104.21.29.36, 172.67.171.76\n",
      "Connecting to yann.lecun.com (yann.lecun.com)|104.21.29.36|:80... connected.\n",
      "HTTP request sent, awaiting response... 200 OK\n",
      "Length: 28881 (28K) [application/x-gzip]\n",
      "Saving to: '../images/mnist-dataset/train-labels-idx1-ubyte.gz'\n",
      "\n",
      "     0K .......... .......... ........                        100%  364M=0s\n",
      "\n",
      "2024-01-10 15:43:51 (364 MB/s) - '../images/mnist-dataset/train-labels-idx1-ubyte.gz' saved [28881/28881]\n",
      "\n"
     ]
    }
   ],
   "source": [
    "!wget http://yann.lecun.com/exdb/mnist/train-labels-idx1-ubyte.gz -P ../images/mnist-dataset"
   ]
  },
  {
   "cell_type": "code",
   "execution_count": 62,
   "id": "registered-spotlight",
   "metadata": {},
   "outputs": [
    {
     "name": "stderr",
     "output_type": "stream",
     "text": [
      "--2024-01-10 15:44:00--  http://yann.lecun.com/exdb/mnist/t10k-images-idx3-ubyte.gz\n",
      "Resolving yann.lecun.com (yann.lecun.com)... 104.21.29.36, 172.67.171.76\n",
      "Connecting to yann.lecun.com (yann.lecun.com)|104.21.29.36|:80... connected.\n",
      "HTTP request sent, awaiting response... 200 OK\n",
      "Length: 1648877 (1,6M) [application/x-gzip]\n",
      "Saving to: '../images/mnist-dataset/t10k-images-idx3-ubyte.gz.1'\n",
      "\n",
      "     0K .......... .......... .......... .......... ..........  3%  398M 0s\n",
      "    50K .......... .......... .......... .......... ..........  6% 1,60M 0s\n",
      "   100K .......... .......... .......... .......... ..........  9% 1,34M 1s\n",
      "   150K .......... .......... .......... .......... .......... 12% 1,30M 1s\n",
      "   200K .......... .......... .......... .......... .......... 15% 9,29M 1s\n",
      "   250K .......... .......... .......... .......... .......... 18% 1,32M 1s\n",
      "   300K .......... .......... .......... .......... .......... 21% 1,09M 1s\n",
      "   350K .......... .......... .......... .......... .......... 24%  830K 1s\n",
      "   400K .......... .......... .......... .......... .......... 27% 1,98M 1s\n",
      "   450K .......... .......... .......... .......... .......... 31% 2,08M 1s\n",
      "   500K .......... .......... .......... .......... .......... 34% 1,47M 1s\n",
      "   550K .......... .......... .......... .......... .......... 37% 1,57M 1s\n",
      "   600K .......... .......... .......... .......... .......... 40% 1,63M 1s\n",
      "   650K .......... .......... .......... .......... .......... 43% 1,54M 1s\n",
      "   700K .......... .......... .......... .......... .......... 46% 1,82M 1s\n",
      "   750K .......... .......... .......... .......... .......... 49% 1,60M 0s\n",
      "   800K .......... .......... .......... .......... .......... 52% 1,55M 0s\n",
      "   850K .......... .......... .......... .......... .......... 55% 1,56M 0s\n",
      "   900K .......... .......... .......... .......... .......... 58% 1,66M 0s\n",
      "   950K .......... .......... .......... .......... .......... 62% 1,75M 0s\n",
      "  1000K .......... .......... .......... .......... .......... 65% 1,54M 0s\n",
      "  1050K .......... .......... .......... .......... .......... 68% 1,53M 0s\n",
      "  1100K .......... .......... .......... .......... .......... 71% 1,58M 0s\n",
      "  1150K .......... .......... .......... .......... .......... 74% 1,69M 0s\n",
      "  1200K .......... .......... .......... .......... .......... 77% 1,34M 0s\n",
      "  1250K .......... .......... .......... .......... .......... 80% 1,36M 0s\n",
      "  1300K .......... .......... .......... .......... .......... 83% 1,42M 0s\n",
      "  1350K .......... .......... .......... .......... .......... 86% 2,28M 0s\n",
      "  1400K .......... .......... .......... .......... .......... 90% 1,54M 0s\n",
      "  1450K .......... .......... .......... .......... .......... 93% 1,61M 0s\n",
      "  1500K .......... .......... .......... .......... .......... 96% 1,59M 0s\n",
      "  1550K .......... .......... .......... .......... .......... 99% 1,59M 0s\n",
      "  1600K ..........                                            100% 2,06M=1,0s\n",
      "\n",
      "2024-01-10 15:44:01 (1,60 MB/s) - '../images/mnist-dataset/t10k-images-idx3-ubyte.gz.1' saved [1648877/1648877]\n",
      "\n"
     ]
    }
   ],
   "source": [
    "!wget http://yann.lecun.com/exdb/mnist/t10k-images-idx3-ubyte.gz -P ../images/mnist-dataset"
   ]
  },
  {
   "cell_type": "code",
   "execution_count": 63,
   "id": "polish-conversation",
   "metadata": {},
   "outputs": [
    {
     "name": "stderr",
     "output_type": "stream",
     "text": [
      "--2024-01-10 15:44:05--  http://yann.lecun.com/exdb/mnist/t10k-labels-idx1-ubyte.gz\n",
      "Resolving yann.lecun.com (yann.lecun.com)... 104.21.29.36, 172.67.171.76\n",
      "Connecting to yann.lecun.com (yann.lecun.com)|104.21.29.36|:80... connected.\n",
      "HTTP request sent, awaiting response... 200 OK\n",
      "Length: 4542 (4,4K) [application/x-gzip]\n",
      "Saving to: '../images/mnist-dataset/t10k-labels-idx1-ubyte.gz.1'\n",
      "\n",
      "     0K ....                                                  100%  102M=0s\n",
      "\n",
      "2024-01-10 15:44:06 (102 MB/s) - '../images/mnist-dataset/t10k-labels-idx1-ubyte.gz.1' saved [4542/4542]\n",
      "\n"
     ]
    }
   ],
   "source": [
    "!wget http://yann.lecun.com/exdb/mnist/t10k-labels-idx1-ubyte.gz -P ../images/mnist-dataset"
   ]
  },
  {
   "cell_type": "markdown",
   "id": "structured-doctrine",
   "metadata": {},
   "source": [
    "**Extract gzip file**"
   ]
  },
  {
   "cell_type": "code",
   "execution_count": 97,
   "id": "social-peeing",
   "metadata": {},
   "outputs": [],
   "source": [
    "!gzip -d ../images/mnist-dataset/train-images-idx3-ubyte.gz "
   ]
  },
  {
   "cell_type": "code",
   "execution_count": 30,
   "id": "asian-breakfast",
   "metadata": {},
   "outputs": [],
   "source": [
    "!gzip -d ../images/mnist-dataset/train-labels-idx1-ubyte.gz"
   ]
  },
  {
   "cell_type": "code",
   "execution_count": null,
   "id": "municipal-village",
   "metadata": {},
   "outputs": [],
   "source": [
    "!gzip -d ../images/mnist-dataset/t10k-images-idx3-ubyte.gz"
   ]
  },
  {
   "cell_type": "code",
   "execution_count": null,
   "id": "faced-greensboro",
   "metadata": {},
   "outputs": [],
   "source": [
    "!gzip -d ../images/mnist-dataset/t10k-labels-idx1-ubyte.gz"
   ]
  },
  {
   "cell_type": "code",
   "execution_count": 105,
   "id": "indonesian-valuation",
   "metadata": {},
   "outputs": [],
   "source": [
    "!ls ../images/mnist-dataset/"
   ]
  },
  {
   "cell_type": "markdown",
   "id": "involved-botswana",
   "metadata": {},
   "source": [
    "**Load image dataset**"
   ]
  },
  {
   "cell_type": "code",
   "execution_count": 622,
   "id": "fixed-norwegian",
   "metadata": {},
   "outputs": [],
   "source": [
    "train_images, train_labels = loadlocal_mnist(images_path='./images/mnist-dataset/train-images.idx3-ubyte',\n",
    "                                             labels_path='./images/mnist-dataset/train-labels.idx1-ubyte')"
   ]
  },
  {
   "cell_type": "code",
   "execution_count": 623,
   "id": "downtown-above",
   "metadata": {},
   "outputs": [],
   "source": [
    "test_images, test_labels = loadlocal_mnist(images_path='./images/mnist-dataset/t10k-images.idx3-ubyte',\n",
    "                                             labels_path='./images/mnist-dataset/t10k-labels.idx1-ubyte')"
   ]
  },
  {
   "cell_type": "code",
   "execution_count": 624,
   "id": "a76da305-4a0b-4e54-83c7-04c0cd95454a",
   "metadata": {},
   "outputs": [],
   "source": [
    "img1=1\n",
    "img2=2"
   ]
  },
  {
   "cell_type": "code",
   "execution_count": 625,
   "id": "chief-exhibition",
   "metadata": {},
   "outputs": [
    {
     "data": {
      "text/plain": [
       "<matplotlib.image.AxesImage at 0x271984face0>"
      ]
     },
     "execution_count": 625,
     "metadata": {},
     "output_type": "execute_result"
    },
    {
     "data": {
      "image/png": "[encoded data removed]",
      "text/plain": [
       "<Figure size 640x480 with 1 Axes>"
      ]
     },
     "metadata": {},
     "output_type": "display_data"
    }
   ],
   "source": [
    "plt.imshow(train_images[img1].reshape(28,28), cmap='gray')"
   ]
  },
  {
   "cell_type": "code",
   "execution_count": 626,
   "id": "international-router",
   "metadata": {},
   "outputs": [
    {
     "data": {
      "text/plain": [
       "0"
      ]
     },
     "execution_count": 626,
     "metadata": {},
     "output_type": "execute_result"
    }
   ],
   "source": [
    "train_labels[img1]"
   ]
  },
  {
   "cell_type": "markdown",
   "id": "attempted-concord",
   "metadata": {},
   "source": [
    "**Test extract HOG feature from image**"
   ]
  },
  {
   "cell_type": "code",
   "execution_count": 627,
   "id": "geographic-writer",
   "metadata": {},
   "outputs": [],
   "source": [
    "feature, hog_img = hog(train_images[img1].reshape(28,28), orientations=9, pixels_per_cell=(8, 8), cells_per_block=(2,2), visualize=True, block_norm='L2')"
   ]
  },
  {
   "cell_type": "code",
   "execution_count": 628,
   "id": "registered-sense",
   "metadata": {},
   "outputs": [
    {
     "data": {
      "text/plain": [
       "(144,)"
      ]
     },
     "execution_count": 628,
     "metadata": {},
     "output_type": "execute_result"
    }
   ],
   "source": [
    "feature.shape"
   ]
  },
  {
   "cell_type": "code",
   "execution_count": 629,
   "id": "official-morgan",
   "metadata": {},
   "outputs": [
    {
     "data": {
      "text/plain": [
       "<BarContainer object of 144 artists>"
      ]
     },
     "execution_count": 629,
     "metadata": {},
     "output_type": "execute_result"
    },
    {
     "data": {
      "image/png": "[encoded data removed]",
      "text/plain": [
       "<Figure size 640x480 with 1 Axes>"
      ]
     },
     "metadata": {},
     "output_type": "display_data"
    }
   ],
   "source": [
    "plt.bar(list(range(feature.shape[0])), feature)"
   ]
  },
  {
   "cell_type": "code",
   "execution_count": 630,
   "id": "accessory-hopkins",
   "metadata": {},
   "outputs": [],
   "source": [
    "feature, hog_img = hog(train_images[img2].reshape(28,28), orientations=9, pixels_per_cell=(8, 8), cells_per_block=(2,2), visualize=True, block_norm='L2')"
   ]
  },
  {
   "cell_type": "code",
   "execution_count": 631,
   "id": "acceptable-hampton",
   "metadata": {},
   "outputs": [
    {
     "data": {
      "text/plain": [
       "<BarContainer object of 144 artists>"
      ]
     },
     "execution_count": 631,
     "metadata": {},
     "output_type": "execute_result"
    },
    {
     "data": {
      "image/png": "[encoded data removed]",
      "text/plain": [
       "<Figure size 640x480 with 1 Axes>"
      ]
     },
     "metadata": {},
     "output_type": "display_data"
    }
   ],
   "source": [
    "plt.bar(list(range(feature.shape[0])), feature)"
   ]
  },
  {
   "cell_type": "markdown",
   "id": "statistical-medicaid",
   "metadata": {},
   "source": [
    "## 2. Preprocessing using HOG Feature Extraction"
   ]
  },
  {
   "cell_type": "code",
   "execution_count": 632,
   "id": "magnetic-external",
   "metadata": {},
   "outputs": [],
   "source": [
    "n_dims = feature.shape[0]"
   ]
  },
  {
   "cell_type": "code",
   "execution_count": 633,
   "id": "twenty-allah",
   "metadata": {},
   "outputs": [
    {
     "data": {
      "text/plain": [
       "144"
      ]
     },
     "execution_count": 633,
     "metadata": {},
     "output_type": "execute_result"
    }
   ],
   "source": [
    "n_dims"
   ]
  },
  {
   "cell_type": "code",
   "execution_count": 634,
   "id": "statutory-photography",
   "metadata": {},
   "outputs": [],
   "source": [
    "n_samples = train_images.shape[0]"
   ]
  },
  {
   "cell_type": "code",
   "execution_count": 635,
   "id": "classical-insulin",
   "metadata": {},
   "outputs": [
    {
     "data": {
      "text/plain": [
       "60000"
      ]
     },
     "execution_count": 635,
     "metadata": {},
     "output_type": "execute_result"
    }
   ],
   "source": [
    "n_samples"
   ]
  },
  {
   "cell_type": "markdown",
   "id": "younger-lighting",
   "metadata": {},
   "source": [
    "**Create variable for dataset**"
   ]
  },
  {
   "cell_type": "code",
   "execution_count": 636,
   "id": "sudden-hearing",
   "metadata": {},
   "outputs": [],
   "source": [
    "X_train, y_train = datasets.make_classification(n_samples=n_samples, n_features=n_dims)"
   ]
  },
  {
   "cell_type": "code",
   "execution_count": 637,
   "id": "following-millennium",
   "metadata": {},
   "outputs": [
    {
     "data": {
      "text/plain": [
       "(60000, 144)"
      ]
     },
     "execution_count": 637,
     "metadata": {},
     "output_type": "execute_result"
    }
   ],
   "source": [
    "X_train.shape"
   ]
  },
  {
   "cell_type": "markdown",
   "id": "aggressive-details",
   "metadata": {},
   "source": [
    "**Get HOG feature from each image & put into dataset variable**"
   ]
  },
  {
   "cell_type": "code",
   "execution_count": 638,
   "id": "handy-spanking",
   "metadata": {},
   "outputs": [],
   "source": [
    "for i in range(n_samples):\n",
    "    X_train[i], _ = hog(train_images[i].reshape(28,28), orientations=9, pixels_per_cell=(8, 8), cells_per_block=(2,2), visualize=True, block_norm='L2')\n",
    "    y_train[i] = train_labels[i]"
   ]
  },
  {
   "cell_type": "markdown",
   "id": "interstate-oxide",
   "metadata": {},
   "source": [
    "**Convert categorical label to one hot label**"
   ]
  },
  {
   "cell_type": "code",
   "execution_count": 540,
   "id": "outdoor-worthy",
   "metadata": {},
   "outputs": [],
   "source": [
    "from sklearn.preprocessing import LabelBinarizer"
   ]
  },
  {
   "cell_type": "code",
   "execution_count": 541,
   "id": "australian-simpson",
   "metadata": {},
   "outputs": [],
   "source": [
    "lb = LabelBinarizer()"
   ]
  },
  {
   "cell_type": "code",
   "execution_count": 542,
   "id": "atlantic-religious",
   "metadata": {},
   "outputs": [
    {
     "data": {
      "text/html": [
       "<style>#sk-container-id-26 {color: black;}#sk-container-id-26 pre{padding: 0;}#sk-container-id-26 div.sk-toggleable {background-color: white;}#sk-container-id-26 label.sk-toggleable__label {cursor: pointer;display: block;width: 100%;margin-bottom: 0;padding: 0.3em;box-sizing: border-box;text-align: center;}#sk-container-id-26 label.sk-toggleable__label-arrow:before {content: \"▸\";float: left;margin-right: 0.25em;color: #696969;}#sk-container-id-26 label.sk-toggleable__label-arrow:hover:before {color: black;}#sk-container-id-26 div.sk-estimator:hover label.sk-toggleable__label-arrow:before {color: black;}#sk-container-id-26 div.sk-toggleable__content {max-height: 0;max-width: 0;overflow: hidden;text-align: left;background-color: #f0f8ff;}#sk-container-id-26 div.sk-toggleable__content pre {margin: 0.2em;color: black;border-radius: 0.25em;background-color: #f0f8ff;}#sk-container-id-26 input.sk-toggleable__control:checked~div.sk-toggleable__content {max-height: 200px;max-width: 100%;overflow: auto;}#sk-container-id-26 input.sk-toggleable__control:checked~label.sk-toggleable__label-arrow:before {content: \"▾\";}#sk-container-id-26 div.sk-estimator input.sk-toggleable__control:checked~label.sk-toggleable__label {background-color: #d4ebff;}#sk-container-id-26 div.sk-label input.sk-toggleable__control:checked~label.sk-toggleable__label {background-color: #d4ebff;}#sk-container-id-26 input.sk-hidden--visually {border: 0;clip: rect(1px 1px 1px 1px);clip: rect(1px, 1px, 1px, 1px);height: 1px;margin: -1px;overflow: hidden;padding: 0;position: absolute;width: 1px;}#sk-container-id-26 div.sk-estimator {font-family: monospace;background-color: #f0f8ff;border: 1px dotted black;border-radius: 0.25em;box-sizing: border-box;margin-bottom: 0.5em;}#sk-container-id-26 div.sk-estimator:hover {background-color: #d4ebff;}#sk-container-id-26 div.sk-parallel-item::after {content: \"\";width: 100%;border-bottom: 1px solid gray;flex-grow: 1;}#sk-container-id-26 div.sk-label:hover label.sk-toggleable__label {background-color: #d4ebff;}#sk-container-id-26 div.sk-serial::before {content: \"\";position: absolute;border-left: 1px solid gray;box-sizing: border-box;top: 0;bottom: 0;left: 50%;z-index: 0;}#sk-container-id-26 div.sk-serial {display: flex;flex-direction: column;align-items: center;background-color: white;padding-right: 0.2em;padding-left: 0.2em;position: relative;}#sk-container-id-26 div.sk-item {position: relative;z-index: 1;}#sk-container-id-26 div.sk-parallel {display: flex;align-items: stretch;justify-content: center;background-color: white;position: relative;}#sk-container-id-26 div.sk-item::before, #sk-container-id-26 div.sk-parallel-item::before {content: \"\";position: absolute;border-left: 1px solid gray;box-sizing: border-box;top: 0;bottom: 0;left: 50%;z-index: -1;}#sk-container-id-26 div.sk-parallel-item {display: flex;flex-direction: column;z-index: 1;position: relative;background-color: white;}#sk-container-id-26 div.sk-parallel-item:first-child::after {align-self: flex-end;width: 50%;}#sk-container-id-26 div.sk-parallel-item:last-child::after {align-self: flex-start;width: 50%;}#sk-container-id-26 div.sk-parallel-item:only-child::after {width: 0;}#sk-container-id-26 div.sk-dashed-wrapped {border: 1px dashed gray;margin: 0 0.4em 0.5em 0.4em;box-sizing: border-box;padding-bottom: 0.4em;background-color: white;}#sk-container-id-26 div.sk-label label {font-family: monospace;font-weight: bold;display: inline-block;line-height: 1.2em;}#sk-container-id-26 div.sk-label-container {text-align: center;}#sk-container-id-26 div.sk-container {/* jupyter's `normalize.less` sets `[hidden] { display: none; }` but bootstrap.min.css set `[hidden] { display: none !important; }` so we also need the `!important` here to be able to override the default hidden behavior on the sphinx rendered scikit-learn.org. See: https://github.com/scikit-learn/scikit-learn/issues/21755 */display: inline-block !important;position: relative;}#sk-container-id-26 div.sk-text-repr-fallback {display: none;}</style><div id=\"sk-container-id-26\" class=\"sk-top-container\"><div class=\"sk-text-repr-fallback\"><pre>LabelBinarizer()</pre><b>In a Jupyter environment, please rerun this cell to show the HTML representation or trust the notebook. <br />On GitHub, the HTML representation is unable to render, please try loading this page with nbviewer.org.</b></div><div class=\"sk-container\" hidden><div class=\"sk-item\"><div class=\"sk-estimator sk-toggleable\"><input class=\"sk-toggleable__control sk-hidden--visually\" id=\"sk-estimator-id-26\" type=\"checkbox\" checked><label for=\"sk-estimator-id-26\" class=\"sk-toggleable__label sk-toggleable__label-arrow\">LabelBinarizer</label><div class=\"sk-toggleable__content\"><pre>LabelBinarizer()</pre></div></div></div></div></div>"
      ],
      "text/plain": [
       "LabelBinarizer()"
      ]
     },
     "execution_count": 542,
     "metadata": {},
     "output_type": "execute_result"
    }
   ],
   "source": [
    "lb.fit(y_train)"
   ]
  },
  {
   "cell_type": "code",
   "execution_count": 543,
   "id": "contained-poetry",
   "metadata": {},
   "outputs": [],
   "source": [
    "y_train_one_hot = lb.transform(y_train)"
   ]
  },
  {
   "cell_type": "code",
   "execution_count": 593,
   "id": "basic-editing",
   "metadata": {},
   "outputs": [
    {
     "data": {
      "text/plain": [
       "array([0, 0, 0, 0, 0, 1, 0, 0, 0, 0])"
      ]
     },
     "execution_count": 593,
     "metadata": {},
     "output_type": "execute_result"
    }
   ],
   "source": [
    "y_train_one_hot[0]"
   ]
  },
  {
   "cell_type": "code",
   "execution_count": 545,
   "id": "comparative-breach",
   "metadata": {},
   "outputs": [
    {
     "data": {
      "text/plain": [
       "2"
      ]
     },
     "execution_count": 545,
     "metadata": {},
     "output_type": "execute_result"
    }
   ],
   "source": [
    "y_train[img1]"
   ]
  },
  {
   "cell_type": "code",
   "execution_count": 546,
   "id": "responsible-rider",
   "metadata": {},
   "outputs": [],
   "source": [
    "import numpy as np"
   ]
  },
  {
   "cell_type": "code",
   "execution_count": 560,
   "id": "sophisticated-retro",
   "metadata": {},
   "outputs": [],
   "source": [
    "label = lb.inverse_transform(np.array([y_train_one_hot[img1]]))"
   ]
  },
  {
   "cell_type": "code",
   "execution_count": 561,
   "id": "toxic-lafayette",
   "metadata": {},
   "outputs": [
    {
     "data": {
      "text/plain": [
       "2"
      ]
     },
     "execution_count": 561,
     "metadata": {},
     "output_type": "execute_result"
    }
   ],
   "source": [
    "label[0]"
   ]
  },
  {
   "cell_type": "markdown",
   "id": "present-exhibit",
   "metadata": {
    "jp-MarkdownHeadingCollapsed": true
   },
   "source": [
    "## 3. Classification with Neural Networks"
   ]
  },
  {
   "attachments": {
    "network.svg": {
     "image/svg+xml": [
      "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"
     ]
    }
   },
   "cell_type": "markdown",
   "id": "banner-prefix",
   "metadata": {},
   "source": [
    "![network.svg](attachment:network.svg)"
   ]
  },
  {
   "cell_type": "code",
   "execution_count": 403,
   "id": "declared-schema",
   "metadata": {},
   "outputs": [],
   "source": [
    "clf = MLPClassifier(hidden_layer_sizes=(128, 64, 10), solver='sgd', learning_rate_init=0.001, max_iter=100)"
   ]
  },
  {
   "cell_type": "code",
   "execution_count": 404,
   "id": "choice-defeat",
   "metadata": {},
   "outputs": [
    {
     "name": "stderr",
     "output_type": "stream",
     "text": [
      "C:\\Users\\MUHD ILHAM\\AppData\\Local\\Programs\\Python\\Python310\\lib\\site-packages\\sklearn\\neural_network\\_multilayer_perceptron.py:691: ConvergenceWarning: Stochastic Optimizer: Maximum iterations (100) reached and the optimization hasn't converged yet.\n",
      "  warnings.warn(\n"
     ]
    },
    {
     "data": {
      "text/html": [
       "<style>#sk-container-id-22 {color: black;}#sk-container-id-22 pre{padding: 0;}#sk-container-id-22 div.sk-toggleable {background-color: white;}#sk-container-id-22 label.sk-toggleable__label {cursor: pointer;display: block;width: 100%;margin-bottom: 0;padding: 0.3em;box-sizing: border-box;text-align: center;}#sk-container-id-22 label.sk-toggleable__label-arrow:before {content: \"▸\";float: left;margin-right: 0.25em;color: #696969;}#sk-container-id-22 label.sk-toggleable__label-arrow:hover:before {color: black;}#sk-container-id-22 div.sk-estimator:hover label.sk-toggleable__label-arrow:before {color: black;}#sk-container-id-22 div.sk-toggleable__content {max-height: 0;max-width: 0;overflow: hidden;text-align: left;background-color: #f0f8ff;}#sk-container-id-22 div.sk-toggleable__content pre {margin: 0.2em;color: black;border-radius: 0.25em;background-color: #f0f8ff;}#sk-container-id-22 input.sk-toggleable__control:checked~div.sk-toggleable__content {max-height: 200px;max-width: 100%;overflow: auto;}#sk-container-id-22 input.sk-toggleable__control:checked~label.sk-toggleable__label-arrow:before {content: \"▾\";}#sk-container-id-22 div.sk-estimator input.sk-toggleable__control:checked~label.sk-toggleable__label {background-color: #d4ebff;}#sk-container-id-22 div.sk-label input.sk-toggleable__control:checked~label.sk-toggleable__label {background-color: #d4ebff;}#sk-container-id-22 input.sk-hidden--visually {border: 0;clip: rect(1px 1px 1px 1px);clip: rect(1px, 1px, 1px, 1px);height: 1px;margin: -1px;overflow: hidden;padding: 0;position: absolute;width: 1px;}#sk-container-id-22 div.sk-estimator {font-family: monospace;background-color: #f0f8ff;border: 1px dotted black;border-radius: 0.25em;box-sizing: border-box;margin-bottom: 0.5em;}#sk-container-id-22 div.sk-estimator:hover {background-color: #d4ebff;}#sk-container-id-22 div.sk-parallel-item::after {content: \"\";width: 100%;border-bottom: 1px solid gray;flex-grow: 1;}#sk-container-id-22 div.sk-label:hover label.sk-toggleable__label {background-color: #d4ebff;}#sk-container-id-22 div.sk-serial::before {content: \"\";position: absolute;border-left: 1px solid gray;box-sizing: border-box;top: 0;bottom: 0;left: 50%;z-index: 0;}#sk-container-id-22 div.sk-serial {display: flex;flex-direction: column;align-items: center;background-color: white;padding-right: 0.2em;padding-left: 0.2em;position: relative;}#sk-container-id-22 div.sk-item {position: relative;z-index: 1;}#sk-container-id-22 div.sk-parallel {display: flex;align-items: stretch;justify-content: center;background-color: white;position: relative;}#sk-container-id-22 div.sk-item::before, #sk-container-id-22 div.sk-parallel-item::before {content: \"\";position: absolute;border-left: 1px solid gray;box-sizing: border-box;top: 0;bottom: 0;left: 50%;z-index: -1;}#sk-container-id-22 div.sk-parallel-item {display: flex;flex-direction: column;z-index: 1;position: relative;background-color: white;}#sk-container-id-22 div.sk-parallel-item:first-child::after {align-self: flex-end;width: 50%;}#sk-container-id-22 div.sk-parallel-item:last-child::after {align-self: flex-start;width: 50%;}#sk-container-id-22 div.sk-parallel-item:only-child::after {width: 0;}#sk-container-id-22 div.sk-dashed-wrapped {border: 1px dashed gray;margin: 0 0.4em 0.5em 0.4em;box-sizing: border-box;padding-bottom: 0.4em;background-color: white;}#sk-container-id-22 div.sk-label label {font-family: monospace;font-weight: bold;display: inline-block;line-height: 1.2em;}#sk-container-id-22 div.sk-label-container {text-align: center;}#sk-container-id-22 div.sk-container {/* jupyter's `normalize.less` sets `[hidden] { display: none; }` but bootstrap.min.css set `[hidden] { display: none !important; }` so we also need the `!important` here to be able to override the default hidden behavior on the sphinx rendered scikit-learn.org. See: https://github.com/scikit-learn/scikit-learn/issues/21755 */display: inline-block !important;position: relative;}#sk-container-id-22 div.sk-text-repr-fallback {display: none;}</style><div id=\"sk-container-id-22\" class=\"sk-top-container\"><div class=\"sk-text-repr-fallback\"><pre>MLPClassifier(hidden_layer_sizes=(128, 64, 10), max_iter=100, solver=&#x27;sgd&#x27;)</pre><b>In a Jupyter environment, please rerun this cell to show the HTML representation or trust the notebook. <br />On GitHub, the HTML representation is unable to render, please try loading this page with nbviewer.org.</b></div><div class=\"sk-container\" hidden><div class=\"sk-item\"><div class=\"sk-estimator sk-toggleable\"><input class=\"sk-toggleable__control sk-hidden--visually\" id=\"sk-estimator-id-22\" type=\"checkbox\" checked><label for=\"sk-estimator-id-22\" class=\"sk-toggleable__label sk-toggleable__label-arrow\">MLPClassifier</label><div class=\"sk-toggleable__content\"><pre>MLPClassifier(hidden_layer_sizes=(128, 64, 10), max_iter=100, solver=&#x27;sgd&#x27;)</pre></div></div></div></div></div>"
      ],
      "text/plain": [
       "MLPClassifier(hidden_layer_sizes=(128, 64, 10), max_iter=100, solver='sgd')"
      ]
     },
     "execution_count": 404,
     "metadata": {},
     "output_type": "execute_result"
    }
   ],
   "source": [
    "clf.fit(X_train, y_train_one_hot)"
   ]
  },
  {
   "cell_type": "markdown",
   "id": "b6c21c13-6169-469d-927c-7a25c6d6f9ab",
   "metadata": {},
   "source": [
    "## 3.1 Classification with SVM"
   ]
  },
  {
   "cell_type": "code",
   "execution_count": 549,
   "id": "900caf63-f656-4c25-ae8b-8ff12f1a16de",
   "metadata": {},
   "outputs": [],
   "source": [
    "clf = SVC(max_iter=100)"
   ]
  },
  {
   "cell_type": "code",
   "execution_count": 554,
   "id": "086992fc-30e9-4120-af6f-ed6f431d93ac",
   "metadata": {},
   "outputs": [
    {
     "name": "stderr",
     "output_type": "stream",
     "text": [
      "C:\\Users\\MUHD ILHAM\\AppData\\Local\\Programs\\Python\\Python310\\lib\\site-packages\\sklearn\\svm\\_base.py:297: ConvergenceWarning: Solver terminated early (max_iter=100).  Consider pre-processing your data with StandardScaler or MinMaxScaler.\n",
      "  warnings.warn(\n"
     ]
    },
    {
     "data": {
      "text/html": [
       "<style>#sk-container-id-27 {color: black;}#sk-container-id-27 pre{padding: 0;}#sk-container-id-27 div.sk-toggleable {background-color: white;}#sk-container-id-27 label.sk-toggleable__label {cursor: pointer;display: block;width: 100%;margin-bottom: 0;padding: 0.3em;box-sizing: border-box;text-align: center;}#sk-container-id-27 label.sk-toggleable__label-arrow:before {content: \"▸\";float: left;margin-right: 0.25em;color: #696969;}#sk-container-id-27 label.sk-toggleable__label-arrow:hover:before {color: black;}#sk-container-id-27 div.sk-estimator:hover label.sk-toggleable__label-arrow:before {color: black;}#sk-container-id-27 div.sk-toggleable__content {max-height: 0;max-width: 0;overflow: hidden;text-align: left;background-color: #f0f8ff;}#sk-container-id-27 div.sk-toggleable__content pre {margin: 0.2em;color: black;border-radius: 0.25em;background-color: #f0f8ff;}#sk-container-id-27 input.sk-toggleable__control:checked~div.sk-toggleable__content {max-height: 200px;max-width: 100%;overflow: auto;}#sk-container-id-27 input.sk-toggleable__control:checked~label.sk-toggleable__label-arrow:before {content: \"▾\";}#sk-container-id-27 div.sk-estimator input.sk-toggleable__control:checked~label.sk-toggleable__label {background-color: #d4ebff;}#sk-container-id-27 div.sk-label input.sk-toggleable__control:checked~label.sk-toggleable__label {background-color: #d4ebff;}#sk-container-id-27 input.sk-hidden--visually {border: 0;clip: rect(1px 1px 1px 1px);clip: rect(1px, 1px, 1px, 1px);height: 1px;margin: -1px;overflow: hidden;padding: 0;position: absolute;width: 1px;}#sk-container-id-27 div.sk-estimator {font-family: monospace;background-color: #f0f8ff;border: 1px dotted black;border-radius: 0.25em;box-sizing: border-box;margin-bottom: 0.5em;}#sk-container-id-27 div.sk-estimator:hover {background-color: #d4ebff;}#sk-container-id-27 div.sk-parallel-item::after {content: \"\";width: 100%;border-bottom: 1px solid gray;flex-grow: 1;}#sk-container-id-27 div.sk-label:hover label.sk-toggleable__label {background-color: #d4ebff;}#sk-container-id-27 div.sk-serial::before {content: \"\";position: absolute;border-left: 1px solid gray;box-sizing: border-box;top: 0;bottom: 0;left: 50%;z-index: 0;}#sk-container-id-27 div.sk-serial {display: flex;flex-direction: column;align-items: center;background-color: white;padding-right: 0.2em;padding-left: 0.2em;position: relative;}#sk-container-id-27 div.sk-item {position: relative;z-index: 1;}#sk-container-id-27 div.sk-parallel {display: flex;align-items: stretch;justify-content: center;background-color: white;position: relative;}#sk-container-id-27 div.sk-item::before, #sk-container-id-27 div.sk-parallel-item::before {content: \"\";position: absolute;border-left: 1px solid gray;box-sizing: border-box;top: 0;bottom: 0;left: 50%;z-index: -1;}#sk-container-id-27 div.sk-parallel-item {display: flex;flex-direction: column;z-index: 1;position: relative;background-color: white;}#sk-container-id-27 div.sk-parallel-item:first-child::after {align-self: flex-end;width: 50%;}#sk-container-id-27 div.sk-parallel-item:last-child::after {align-self: flex-start;width: 50%;}#sk-container-id-27 div.sk-parallel-item:only-child::after {width: 0;}#sk-container-id-27 div.sk-dashed-wrapped {border: 1px dashed gray;margin: 0 0.4em 0.5em 0.4em;box-sizing: border-box;padding-bottom: 0.4em;background-color: white;}#sk-container-id-27 div.sk-label label {font-family: monospace;font-weight: bold;display: inline-block;line-height: 1.2em;}#sk-container-id-27 div.sk-label-container {text-align: center;}#sk-container-id-27 div.sk-container {/* jupyter's `normalize.less` sets `[hidden] { display: none; }` but bootstrap.min.css set `[hidden] { display: none !important; }` so we also need the `!important` here to be able to override the default hidden behavior on the sphinx rendered scikit-learn.org. See: https://github.com/scikit-learn/scikit-learn/issues/21755 */display: inline-block !important;position: relative;}#sk-container-id-27 div.sk-text-repr-fallback {display: none;}</style><div id=\"sk-container-id-27\" class=\"sk-top-container\"><div class=\"sk-text-repr-fallback\"><pre>SVC(C=100, gamma=0.001, max_iter=100)</pre><b>In a Jupyter environment, please rerun this cell to show the HTML representation or trust the notebook. <br />On GitHub, the HTML representation is unable to render, please try loading this page with nbviewer.org.</b></div><div class=\"sk-container\" hidden><div class=\"sk-item\"><div class=\"sk-estimator sk-toggleable\"><input class=\"sk-toggleable__control sk-hidden--visually\" id=\"sk-estimator-id-27\" type=\"checkbox\" checked><label for=\"sk-estimator-id-27\" class=\"sk-toggleable__label sk-toggleable__label-arrow\">SVC</label><div class=\"sk-toggleable__content\"><pre>SVC(C=100, gamma=0.001, max_iter=100)</pre></div></div></div></div></div>"
      ],
      "text/plain": [
       "SVC(C=100, gamma=0.001, max_iter=100)"
      ]
     },
     "execution_count": 554,
     "metadata": {},
     "output_type": "execute_result"
    }
   ],
   "source": [
    "clf.fit(X_train, y_train)"
   ]
  },
  {
   "cell_type": "markdown",
   "id": "described-intersection",
   "metadata": {},
   "source": [
    "## 4. Predict Test Dataset "
   ]
  },
  {
   "cell_type": "code",
   "execution_count": 651,
   "id": "remarkable-sample",
   "metadata": {},
   "outputs": [],
   "source": [
    "n_samples = test_images.shape[0]"
   ]
  },
  {
   "cell_type": "code",
   "execution_count": 652,
   "id": "concrete-forth",
   "metadata": {},
   "outputs": [],
   "source": [
    "X_test, y_test = datasets.make_classification(n_samples=n_samples, n_features=n_dims)"
   ]
  },
  {
   "cell_type": "code",
   "execution_count": 650,
   "id": "naked-credits",
   "metadata": {},
   "outputs": [
    {
     "ename": "IndexError",
     "evalue": "index 10000 is out of bounds for axis 0 with size 10000",
     "output_type": "error",
     "traceback": [
      "\u001b[1;31m---------------------------------------------------------------------------\u001b[0m",
      "\u001b[1;31mIndexError\u001b[0m                                Traceback (most recent call last)",
      "Cell \u001b[1;32mIn[650], line 2\u001b[0m\n\u001b[0;32m      1\u001b[0m \u001b[38;5;28;01mfor\u001b[39;00m i \u001b[38;5;129;01min\u001b[39;00m \u001b[38;5;28mrange\u001b[39m(n_samples):\n\u001b[1;32m----> 2\u001b[0m     X_test[i], _ \u001b[38;5;241m=\u001b[39m hog(\u001b[43mtest_images\u001b[49m\u001b[43m[\u001b[49m\u001b[43mi\u001b[49m\u001b[43m]\u001b[49m\u001b[38;5;241m.\u001b[39mreshape(\u001b[38;5;241m28\u001b[39m,\u001b[38;5;241m28\u001b[39m), orientations\u001b[38;5;241m=\u001b[39m\u001b[38;5;241m9\u001b[39m, pixels_per_cell\u001b[38;5;241m=\u001b[39m(\u001b[38;5;241m8\u001b[39m, \u001b[38;5;241m8\u001b[39m), cells_per_block\u001b[38;5;241m=\u001b[39m(\u001b[38;5;241m2\u001b[39m,\u001b[38;5;241m2\u001b[39m), visualize\u001b[38;5;241m=\u001b[39m\u001b[38;5;28;01mTrue\u001b[39;00m, block_norm\u001b[38;5;241m=\u001b[39m\u001b[38;5;124m'\u001b[39m\u001b[38;5;124mL2\u001b[39m\u001b[38;5;124m'\u001b[39m)\n\u001b[0;32m      3\u001b[0m     y_test[i] \u001b[38;5;241m=\u001b[39m test_labels[i]\n",
      "\u001b[1;31mIndexError\u001b[0m: index 10000 is out of bounds for axis 0 with size 10000"
     ]
    }
   ],
   "source": [
    "for i in range(n_samples):\n",
    "    X_test[i], _ = hog(test_images[i].reshape(28,28), orientations=9, pixels_per_cell=(8, 8), cells_per_block=(2,2), visualize=True, block_norm='L2')\n",
    "    y_test[i] = test_labels[i]"
   ]
  },
  {
   "cell_type": "code",
   "execution_count": 594,
   "id": "skilled-tutorial",
   "metadata": {},
   "outputs": [],
   "source": [
    "y_test_one_hot = lb.transform(y_test)"
   ]
  },
  {
   "cell_type": "code",
   "execution_count": 595,
   "id": "suited-appointment",
   "metadata": {},
   "outputs": [],
   "source": [
    "y_pred_one_hot = clf.predict(X_test)"
   ]
  },
  {
   "cell_type": "code",
   "execution_count": 591,
   "id": "hollywood-biology",
   "metadata": {},
   "outputs": [
    {
     "data": {
      "text/plain": [
       "7"
      ]
     },
     "execution_count": 591,
     "metadata": {},
     "output_type": "execute_result"
    }
   ],
   "source": [
    "y_pred[0]"
   ]
  },
  {
   "cell_type": "code",
   "execution_count": 639,
   "id": "03b3ec39-c123-4954-a8cd-162cc756b368",
   "metadata": {},
   "outputs": [],
   "source": [
    "img1 = 7"
   ]
  },
  {
   "cell_type": "code",
   "execution_count": 640,
   "id": "multiple-hayes",
   "metadata": {},
   "outputs": [
    {
     "data": {
      "text/plain": [
       "<matplotlib.image.AxesImage at 0x2719ccfae00>"
      ]
     },
     "execution_count": 640,
     "metadata": {},
     "output_type": "execute_result"
    },
    {
     "data": {
      "image/png": "[encoded data removed]",
      "text/plain": [
       "<Figure size 640x480 with 1 Axes>"
      ]
     },
     "metadata": {},
     "output_type": "display_data"
    }
   ],
   "source": [
    "plt.imshow(test_images[img1].reshape(28,28), cmap='gray')"
   ]
  },
  {
   "cell_type": "code",
   "execution_count": 641,
   "id": "thick-requirement",
   "metadata": {},
   "outputs": [],
   "source": [
    "out_one_hot = clf.predict(X_test[img1].reshape(1, n_dims))"
   ]
  },
  {
   "cell_type": "code",
   "execution_count": 642,
   "id": "neural-patrick",
   "metadata": {},
   "outputs": [
    {
     "data": {
      "text/plain": [
       "array([9])"
      ]
     },
     "execution_count": 642,
     "metadata": {},
     "output_type": "execute_result"
    }
   ],
   "source": [
    "out_one_hot"
   ]
  },
  {
   "cell_type": "code",
   "execution_count": 643,
   "id": "played-transition",
   "metadata": {},
   "outputs": [
    {
     "data": {
      "text/plain": [
       "9"
      ]
     },
     "execution_count": 643,
     "metadata": {},
     "output_type": "execute_result"
    }
   ],
   "source": [
    "out_one_hot[0]"
   ]
  },
  {
   "cell_type": "markdown",
   "id": "suburban-backing",
   "metadata": {},
   "source": [
    "## 5. Evaluation Metrics"
   ]
  },
  {
   "attachments": {
    "conf-matrix.png": {
     "image/png": "[encoded data removed]"
    }
   },
   "cell_type": "markdown",
   "id": "baking-large",
   "metadata": {},
   "source": [
    "### 5. 1 Confussion Matrix\n",
    "\n",
    "![conf-matrix.png](attachment:conf-matrix.png)"
   ]
  },
  {
   "cell_type": "code",
   "execution_count": 644,
   "id": "friendly-ceiling",
   "metadata": {},
   "outputs": [],
   "source": [
    "from sklearn.metrics import confusion_matrix"
   ]
  },
  {
   "cell_type": "code",
   "execution_count": 645,
   "id": "shaped-lawyer",
   "metadata": {},
   "outputs": [],
   "source": [
    "conf_mat = confusion_matrix(y_test, y_pred)"
   ]
  },
  {
   "cell_type": "code",
   "execution_count": 646,
   "id": "failing-edmonton",
   "metadata": {},
   "outputs": [
    {
     "data": {
      "text/plain": [
       "array([[ 975,    1,    0,    2,    1,    0,    1,    0,    0,    0],\n",
       "       [  14, 1115,    4,    0,    1,    0,    1,    0,    0,    0],\n",
       "       [  34,    4,  980,    4,    0,    0,    1,    8,    0,    1],\n",
       "       [  25,    0,   13,  956,    0,    5,    0,    4,    2,    5],\n",
       "       [  40,   10,    0,    0,  914,    0,    6,    5,    1,    6],\n",
       "       [  30,    0,    2,    9,    2,  842,    1,    1,    5,    0],\n",
       "       [  24,    1,    2,    0,    6,    8,  917,    0,    0,    0],\n",
       "       [  32,    2,   26,    5,   10,    1,    0,  941,    3,    8],\n",
       "       [  52,    1,    2,    6,    1,    5,    3,    4,  893,    7],\n",
       "       [  44,    0,    0,    1,   12,    2,    0,    8,    9,  933]],\n",
       "      dtype=int64)"
      ]
     },
     "execution_count": 646,
     "metadata": {},
     "output_type": "execute_result"
    }
   ],
   "source": [
    "conf_mat"
   ]
  },
  {
   "cell_type": "code",
   "execution_count": 647,
   "id": "representative-prerequisite",
   "metadata": {},
   "outputs": [],
   "source": [
    "from mlxtend.plotting import plot_confusion_matrix"
   ]
  },
  {
   "cell_type": "code",
   "execution_count": 648,
   "id": "flexible-savannah",
   "metadata": {},
   "outputs": [],
   "source": [
    "class_names = ['0', '1', '2', '3', '4', '5', '6', '7', '8', '9']"
   ]
  },
  {
   "cell_type": "code",
   "execution_count": 649,
   "id": "coupled-apache",
   "metadata": {},
   "outputs": [
    {
     "data": {
      "image/png": "[encoded data removed]",
      "text/plain": [
       "<Figure size 640x480 with 1 Axes>"
      ]
     },
     "metadata": {},
     "output_type": "display_data"
    }
   ],
   "source": [
    "fig, ax = plot_confusion_matrix(conf_mat=conf_mat, class_names=class_names)"
   ]
  },
  {
   "cell_type": "markdown",
   "id": "unnecessary-responsibility",
   "metadata": {},
   "source": [
    "### 5.2 Precission"
   ]
  },
  {
   "cell_type": "markdown",
   "id": "unauthorized-queue",
   "metadata": {},
   "source": [
    "$$\\text { Precision }=\\frac{T P}{T P+F P}$$"
   ]
  },
  {
   "cell_type": "code",
   "execution_count": 456,
   "id": "protected-suggestion",
   "metadata": {},
   "outputs": [],
   "source": [
    "from sklearn.metrics import precision_score"
   ]
  },
  {
   "cell_type": "code",
   "execution_count": 457,
   "id": "centered-sector",
   "metadata": {},
   "outputs": [],
   "source": [
    "precision = precision_score(y_test, y_pred, average=None)"
   ]
  },
  {
   "cell_type": "code",
   "execution_count": 458,
   "id": "collect-status",
   "metadata": {},
   "outputs": [
    {
     "data": {
      "text/plain": [
       "array([0.76771654, 0.98324515, 0.95238095, 0.97253306, 0.96515312,\n",
       "       0.97566628, 0.98602151, 0.96910402, 0.97809419, 0.971875  ])"
      ]
     },
     "execution_count": 458,
     "metadata": {},
     "output_type": "execute_result"
    }
   ],
   "source": [
    "precision"
   ]
  },
  {
   "cell_type": "markdown",
   "id": "serious-tiger",
   "metadata": {},
   "source": [
    "### 5.3 Recall"
   ]
  },
  {
   "cell_type": "markdown",
   "id": "weekly-andrews",
   "metadata": {},
   "source": [
    "$$\\text { Recall }=\\frac{T P}{T P+F N}$$"
   ]
  },
  {
   "cell_type": "code",
   "execution_count": 459,
   "id": "linear-strap",
   "metadata": {},
   "outputs": [],
   "source": [
    "from sklearn.metrics import recall_score"
   ]
  },
  {
   "cell_type": "code",
   "execution_count": 460,
   "id": "canadian-valuable",
   "metadata": {},
   "outputs": [],
   "source": [
    "recall = recall_score(y_test, y_pred, average=None)"
   ]
  },
  {
   "cell_type": "code",
   "execution_count": 461,
   "id": "confident-brave",
   "metadata": {},
   "outputs": [
    {
     "data": {
      "text/plain": [
       "array([0.99489796, 0.98237885, 0.9496124 , 0.94653465, 0.93075356,\n",
       "       0.94394619, 0.95720251, 0.91536965, 0.91683778, 0.9246779 ])"
      ]
     },
     "execution_count": 461,
     "metadata": {},
     "output_type": "execute_result"
    }
   ],
   "source": [
    "recall"
   ]
  },
  {
   "cell_type": "markdown",
   "id": "small-aircraft",
   "metadata": {},
   "source": [
    "### 5.4 Accuracy"
   ]
  },
  {
   "cell_type": "markdown",
   "id": "checked-assembly",
   "metadata": {},
   "source": [
    "$$\\text { Accuracy }=\\frac{T P+T N}{T P+T N+F P+F N}$$"
   ]
  },
  {
   "cell_type": "code",
   "execution_count": 462,
   "id": "ranking-silence",
   "metadata": {},
   "outputs": [],
   "source": [
    "from sklearn.metrics import accuracy_score"
   ]
  },
  {
   "cell_type": "code",
   "execution_count": 463,
   "id": "posted-worst",
   "metadata": {},
   "outputs": [],
   "source": [
    "accuracy = accuracy_score(y_test, y_pred)"
   ]
  },
  {
   "cell_type": "code",
   "execution_count": 464,
   "id": "joined-listening",
   "metadata": {},
   "outputs": [
    {
     "data": {
      "text/plain": [
       "0.9466"
      ]
     },
     "execution_count": 464,
     "metadata": {},
     "output_type": "execute_result"
    }
   ],
   "source": [
    "accuracy"
   ]
  },
  {
   "cell_type": "markdown",
   "id": "sublime-barrel",
   "metadata": {},
   "source": [
    "### 5.5 F1-Score"
   ]
  },
  {
   "cell_type": "markdown",
   "id": "after-prediction",
   "metadata": {},
   "source": [
    "$$\\text { F1-Score }=\\left(\\frac{2}{\\text { precision }^{-1}+\\text { recall }^{-1}}\\right)=2 \\cdot\\left(\\frac{\\text { precision } \\cdot \\text { recall }}{\\text { precision }+\\text { recall }}\\right)$$"
   ]
  },
  {
   "cell_type": "code",
   "execution_count": 465,
   "id": "bizarre-bermuda",
   "metadata": {},
   "outputs": [],
   "source": [
    "from sklearn.metrics import f1_score"
   ]
  },
  {
   "cell_type": "code",
   "execution_count": 466,
   "id": "hungarian-probe",
   "metadata": {},
   "outputs": [],
   "source": [
    "f1 = f1_score(y_test, y_pred, average='macro')"
   ]
  },
  {
   "cell_type": "code",
   "execution_count": 467,
   "id": "floating-corner",
   "metadata": {},
   "outputs": [
    {
     "data": {
      "text/plain": [
       "0.947405042783393"
      ]
     },
     "execution_count": 467,
     "metadata": {},
     "output_type": "execute_result"
    }
   ],
   "source": [
    "f1"
   ]
  }
 ],
 "metadata": {
  "kernelspec": {
   "display_name": "Python 3 (ipykernel)",
   "language": "python",
   "name": "python3"
  },
  "language_info": {
   "codemirror_mode": {
    "name": "ipython",
    "version": 3
   },
   "file_extension": ".py",
   "mimetype": "text/x-python",
   "name": "python",
   "nbconvert_exporter": "python",
   "pygments_lexer": "ipython3",
   "version": "3.10.7"
  }
 },
 "nbformat": 4,
 "nbformat_minor": 5
}
